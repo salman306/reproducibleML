{
 "cells": [
  {
   "cell_type": "markdown",
   "metadata": {},
   "source": [
    "# Reproducibility of ML"
   ]
  },
  {
   "cell_type": "markdown",
   "metadata": {},
   "source": [
    "## Data Augmentation\n",
    "\n",
    "To reduce computation time, apply augmentations in the following order\n",
    "\n",
    "1. Reformat\n",
    "2. Crop\n",
    "3. Flip"
   ]
  },
  {
   "cell_type": "code",
   "execution_count": 3,
   "metadata": {
    "collapsed": true
   },
   "outputs": [],
   "source": [
    "from random import randint, uniform\n",
    "\n",
    "# takes FLATTENED data, width and length as input\n",
    "def reformat(data, width, length):\n",
    "    # partition r, g, b\n",
    "    size = width * length\n",
    "    r = data[:size]\n",
    "    g = data[size:2*size]\n",
    "    b = data[2*size:]\n",
    "    # create 2d array of r, g, b\n",
    "    r_formatted = []\n",
    "    g_formatted = []\n",
    "    b_formatted = []\n",
    "    # reformat flattened r, g, b into 2d array\n",
    "    for i in range(length):\n",
    "        r_formatted.append(r[i * width: (i + 1) * width])\n",
    "        g_formatted.append(g[i * width: (i + 1) * width])\n",
    "        b_formatted.append(b[i * width: (i + 1) * width])\n",
    "    # return 3d array of r,g,b\n",
    "    rgb_formatted = []\n",
    "    rgb_formatted.append(r_formatted)\n",
    "    rgb_formatted.append(g_formatted)\n",
    "    rgb_formatted.append(b_formatted)\n",
    "    return rgb_formatted\n",
    "\n",
    "\n",
    "# takes FORMATTED data as input and crop the center of the image\n",
    "def center_crop(data, size):\n",
    "    # partition r, g, b\n",
    "    r = data[0]\n",
    "    g = data[1]\n",
    "    b = data[2]\n",
    "    # get start row, column index to crop the center\n",
    "    w_start = int((len(r) - size) / 2)\n",
    "    l_start = int((len(r[0]) - size) / 2)\n",
    "    # construct cropped r,g,b array\n",
    "    cropped_rgb = []\n",
    "    cropped_rgb.append(crop(r, l_start, w_start, size))\n",
    "    cropped_rgb.append(crop(g, l_start, w_start, size))\n",
    "    cropped_rgb.append(crop(b, l_start, w_start, size))\n",
    "    return cropped_rgb\n",
    "\n",
    "# takes FORMATTED data as input and randomly crop the image\n",
    "def rand_crop(data, size):\n",
    "    # partition r, g, b\n",
    "    r = data[0]\n",
    "    g = data[1]\n",
    "    b = data[2]\n",
    "    # get random start row, column index\n",
    "    w_start = randint(0,len(data) - size)\n",
    "    l_start = randint(0,len(data) - size)\n",
    "    # construct cropped r,g,b array\n",
    "    cropped_rgb = []\n",
    "    cropped_rgb.append(crop(r, l_start, w_start, size))\n",
    "    cropped_rgb.append(crop(g, l_start, w_start, size))\n",
    "    cropped_rgb.append(crop(b, l_start, w_start, size))\n",
    "    return cropped_rgb\n",
    "\n",
    "def crop(data, l_start, w_start, size):\n",
    "    cropped = []\n",
    "    for i in range(l_start, l_start + size):\n",
    "        row = []\n",
    "        for j in range(w_start, w_start + size):\n",
    "            row.append(data[i][j])\n",
    "        cropped.append(row)\n",
    "    return cropped\n",
    "\n",
    "# takes FORMATTED data as input\n",
    "def rand_horizontal_flip(data, p):\n",
    "    if (uniform(0,1) < p):\n",
    "        return horizontal_flip(data)\n",
    "    else:\n",
    "        return data\n",
    "\n",
    "def horizontal_flip(data):\n",
    "    # flip image horizontally\n",
    "    for i in range(int(len(data)/2)):\n",
    "        temp = data[i]\n",
    "        data[i] = data[len(data) -1 - i]\n",
    "        data[len(data) -1 - i] = temp\n",
    "    return data"
   ]
  },
  {
   "cell_type": "markdown",
   "metadata": {},
   "source": [
    "## Importing Data"
   ]
  },
  {
   "cell_type": "code",
   "execution_count": 2,
   "metadata": {
    "collapsed": true
   },
   "outputs": [],
   "source": []
  },
  {
   "cell_type": "code",
   "execution_count": null,
   "metadata": {
    "collapsed": true
   },
   "outputs": [],
   "source": []
  }
 ],
 "metadata": {
  "kernelspec": {
   "display_name": "Python 3",
   "language": "python",
   "name": "python3"
  },
  "language_info": {
   "codemirror_mode": {
    "name": "ipython",
    "version": 3
   },
   "file_extension": ".py",
   "mimetype": "text/x-python",
   "name": "python",
   "nbconvert_exporter": "python",
   "pygments_lexer": "ipython3",
   "version": "3.6.1"
  }
 },
 "nbformat": 4,
 "nbformat_minor": 2
}
